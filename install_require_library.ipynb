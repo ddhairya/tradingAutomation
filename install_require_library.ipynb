{
 "cells": [
  {
   "cell_type": "code",
   "execution_count": 2,
   "id": "dce1abb6",
   "metadata": {},
   "outputs": [
    {
     "name": "stdout",
     "output_type": "stream",
     "text": [
      "Requirement already satisfied: scikit-learn in c:\\users\\d_dha\\.conda\\envs\\pyfin\\lib\\site-packages (0.24.2)\n",
      "Requirement already satisfied: yahoofinancials in c:\\users\\d_dha\\.conda\\envs\\pyfin\\lib\\site-packages (1.6)\n",
      "Requirement already satisfied: yfinance in c:\\users\\d_dha\\.conda\\envs\\pyfin\\lib\\site-packages (0.1.59)\n",
      "Requirement already satisfied: XlsxWriter in c:\\users\\d_dha\\.conda\\envs\\pyfin\\lib\\site-packages (1.4.3)\n",
      "Requirement already satisfied: pandas_datareader in c:\\users\\d_dha\\.conda\\envs\\pyfin\\lib\\site-packages (0.9.0)\n",
      "Requirement already satisfied: pandas in c:\\users\\d_dha\\.conda\\envs\\pyfin\\lib\\site-packages (1.2.4)\n",
      "Requirement already satisfied: xlrd in c:\\users\\d_dha\\.conda\\envs\\pyfin\\lib\\site-packages (2.0.1)\n",
      "Collecting openpyxl\n",
      "  Downloading openpyxl-3.0.7-py2.py3-none-any.whl (243 kB)\n",
      "Requirement already satisfied: threadpoolctl>=2.0.0 in c:\\users\\d_dha\\.conda\\envs\\pyfin\\lib\\site-packages (from scikit-learn) (2.1.0)\n",
      "Requirement already satisfied: numpy>=1.13.3 in c:\\users\\d_dha\\.conda\\envs\\pyfin\\lib\\site-packages (from scikit-learn) (1.20.3)\n",
      "Requirement already satisfied: joblib>=0.11 in c:\\users\\d_dha\\.conda\\envs\\pyfin\\lib\\site-packages (from scikit-learn) (1.0.1)\n",
      "Requirement already satisfied: scipy>=0.19.1 in c:\\users\\d_dha\\.conda\\envs\\pyfin\\lib\\site-packages (from scikit-learn) (1.6.3)\n",
      "Requirement already satisfied: beautifulsoup4 in c:\\users\\d_dha\\.conda\\envs\\pyfin\\lib\\site-packages (from yahoofinancials) (4.9.3)\n",
      "Requirement already satisfied: pytz in c:\\users\\d_dha\\.conda\\envs\\pyfin\\lib\\site-packages (from yahoofinancials) (2021.1)\n",
      "Requirement already satisfied: lxml>=4.5.1 in c:\\users\\d_dha\\.conda\\envs\\pyfin\\lib\\site-packages (from yfinance) (4.6.3)\n",
      "Requirement already satisfied: requests>=2.20 in c:\\users\\d_dha\\.conda\\envs\\pyfin\\lib\\site-packages (from yfinance) (2.25.1)\n",
      "Requirement already satisfied: multitasking>=0.0.7 in c:\\users\\d_dha\\.conda\\envs\\pyfin\\lib\\site-packages (from yfinance) (0.0.9)\n",
      "Requirement already satisfied: python-dateutil>=2.7.3 in c:\\users\\d_dha\\.conda\\envs\\pyfin\\lib\\site-packages (from pandas) (2.8.1)\n",
      "Requirement already satisfied: six>=1.5 in c:\\users\\d_dha\\.conda\\envs\\pyfin\\lib\\site-packages (from python-dateutil>=2.7.3->pandas) (1.15.0)\n",
      "Requirement already satisfied: certifi>=2017.4.17 in c:\\users\\d_dha\\.conda\\envs\\pyfin\\lib\\site-packages (from requests>=2.20->yfinance) (2021.5.30)\n",
      "Requirement already satisfied: idna<3,>=2.5 in c:\\users\\d_dha\\.conda\\envs\\pyfin\\lib\\site-packages (from requests>=2.20->yfinance) (2.10)\n",
      "Requirement already satisfied: urllib3<1.27,>=1.21.1 in c:\\users\\d_dha\\.conda\\envs\\pyfin\\lib\\site-packages (from requests>=2.20->yfinance) (1.26.5)\n",
      "Requirement already satisfied: chardet<5,>=3.0.2 in c:\\users\\d_dha\\.conda\\envs\\pyfin\\lib\\site-packages (from requests>=2.20->yfinance) (4.0.0)\n",
      "Collecting et-xmlfile\n",
      "  Downloading et_xmlfile-1.1.0-py3-none-any.whl (4.7 kB)\n",
      "Requirement already satisfied: soupsieve>1.2 in c:\\users\\d_dha\\.conda\\envs\\pyfin\\lib\\site-packages (from beautifulsoup4->yahoofinancials) (2.2.1)\n",
      "Installing collected packages: et-xmlfile, openpyxl\n",
      "Successfully installed et-xmlfile-1.1.0 openpyxl-3.0.7\n",
      "Note: you may need to restart the kernel to use updated packages.\n"
     ]
    }
   ],
   "source": [
    "pip install scikit-learn yahoofinancials yfinance XlsxWriter pandas_datareader pandas xlrd openpyxl"
   ]
  },
  {
   "cell_type": "code",
   "execution_count": null,
   "id": "2a02e487",
   "metadata": {},
   "outputs": [],
   "source": []
  }
 ],
 "metadata": {
  "kernelspec": {
   "display_name": "Python 3",
   "language": "python",
   "name": "python3"
  },
  "language_info": {
   "codemirror_mode": {
    "name": "ipython",
    "version": 3
   },
   "file_extension": ".py",
   "mimetype": "text/x-python",
   "name": "python",
   "nbconvert_exporter": "python",
   "pygments_lexer": "ipython3",
   "version": "3.8.10"
  }
 },
 "nbformat": 4,
 "nbformat_minor": 5
}
