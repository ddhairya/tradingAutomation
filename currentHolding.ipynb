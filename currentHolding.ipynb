{
 "cells": [
  {
   "cell_type": "code",
   "execution_count": 1,
   "id": "a4adb073",
   "metadata": {},
   "outputs": [],
   "source": [
    "import pandas as pd\n",
    "\n",
    "stocks_list = pd.read_excel(\"stockslist.xlsx\")\n",
    "max_row = len(stocks_list.index)"
   ]
  },
  {
   "cell_type": "code",
   "execution_count": 2,
   "id": "1b62c835",
   "metadata": {},
   "outputs": [],
   "source": [
    "my_columns = [\"holder\",\"qty\",\"stock\",\"purchase_price (INR) \",\"current_price (INR)\",\"per_gain_loss (%)\",\"per_growth (%)\",\"annual_return (%)\",\"tot_gain_loss (INR)\",\"volume (lk)\",\"mark_cap (cr)\",\"week52high (₹)\",\"week52low (₹)\",\"purchase_date\",\"expectance\"]\n",
    "\n",
    "final_dataframe = pd.DataFrame(columns=my_columns)"
   ]
  },
  {
   "cell_type": "code",
   "execution_count": 6,
   "id": "6344c25b",
   "metadata": {},
   "outputs": [],
   "source": [
    "import datetime\n",
    "\n",
    "def annual_return(pd,pp,cp):\n",
    "    cd = datetime.datetime.now()\n",
    "    gain_loss = (cp-pp)/pp*100\n",
    "    days = (cd-pd).days\n",
    "    \n",
    "    if days/365>1:\n",
    "        return round(gain_loss/(days/365),2)\n",
    "    else:\n",
    "        return round(gain_loss,2)\n",
    "    \n",
    "def gain_loss(pp,cp):\n",
    "    return format((cp-pp)/pp*100,'.2f')\n",
    "\n",
    "def growth(pp,cp):\n",
    "    return format(cp/pp*100,'.2f')"
   ]
  },
  {
   "cell_type": "code",
   "execution_count": 7,
   "id": "6730c9fc",
   "metadata": {},
   "outputs": [],
   "source": [
    "import yfinance as yf\n",
    "\n",
    "for row in range(0,max_row):\n",
    "    ticker = stocks_list[\"Stocks\"][row]\n",
    "    stock = yf.Ticker(ticker)\n",
    "    final_dataframe = final_dataframe.append(\n",
    "        pd.Series([\n",
    "            stocks_list[\"Holder\"][row],\n",
    "            stocks_list[\"Qty\"][row],\n",
    "            ticker,\n",
    "            stocks_list[\"PurchasePrice\"][row],\n",
    "            stock.info[\"regularMarketPrice\"],\n",
    "            gain_loss(pp = stocks_list[\"PurchasePrice\"][row], cp = stock.info[\"regularMarketPrice\"]),\n",
    "            growth(pp = stocks_list[\"PurchasePrice\"][row], cp = stock.info[\"regularMarketPrice\"]),\n",
    "            annual_return(pd = stocks_list[\"PurchaseDate\"][row], pp = stocks_list[\"PurchasePrice\"][row], cp = stock.info[\"regularMarketPrice\"]),\n",
    "            stock.info[\"regularMarketPrice\"]-stocks_list[\"PurchasePrice\"][row],\n",
    "            round(stock.info[\"volume\"]/100000,2),\n",
    "            round(stock.info[\"marketCap\"]/10000000,2),\n",
    "            stock.info[\"fiftyTwoWeekHigh\"],\n",
    "            stock.info[\"fiftyTwoWeekLow\"],\n",
    "            str(stocks_list[\"PurchaseDate\"][row]),\n",
    "            stocks_list[\"Expectation\"][row],\n",
    "        ], index=my_columns),\n",
    "    ignore_index=True)"
   ]
  },
  {
   "cell_type": "code",
   "execution_count": 8,
   "id": "4861967b",
   "metadata": {},
   "outputs": [
    {
     "data": {
      "text/html": [
       "<div>\n",
       "<style scoped>\n",
       "    .dataframe tbody tr th:only-of-type {\n",
       "        vertical-align: middle;\n",
       "    }\n",
       "\n",
       "    .dataframe tbody tr th {\n",
       "        vertical-align: top;\n",
       "    }\n",
       "\n",
       "    .dataframe thead th {\n",
       "        text-align: right;\n",
       "    }\n",
       "</style>\n",
       "<table border=\"1\" class=\"dataframe\">\n",
       "  <thead>\n",
       "    <tr style=\"text-align: right;\">\n",
       "      <th></th>\n",
       "      <th>holder</th>\n",
       "      <th>qty</th>\n",
       "      <th>stock</th>\n",
       "      <th>purchase_price (₹)</th>\n",
       "      <th>current_price (₹)</th>\n",
       "      <th>per_gain_loss (%)</th>\n",
       "      <th>per_growth (%)</th>\n",
       "      <th>annual_return (%)</th>\n",
       "      <th>tot_gain_loss (₹)</th>\n",
       "      <th>volume (lk)</th>\n",
       "      <th>mark_cap (cr)</th>\n",
       "      <th>week52high (₹)</th>\n",
       "      <th>week52low (₹)</th>\n",
       "      <th>purchase_date</th>\n",
       "      <th>expectance</th>\n",
       "    </tr>\n",
       "  </thead>\n",
       "  <tbody>\n",
       "    <tr>\n",
       "      <th>0</th>\n",
       "      <td>Ridhi</td>\n",
       "      <td>100</td>\n",
       "      <td>RCOM.BO</td>\n",
       "      <td>1.75</td>\n",
       "      <td>3.24</td>\n",
       "      <td>85.14</td>\n",
       "      <td>185.14</td>\n",
       "      <td>85.14</td>\n",
       "      <td>1.49</td>\n",
       "      <td>433.9</td>\n",
       "      <td>889.14</td>\n",
       "      <td>4.33</td>\n",
       "      <td>0.62</td>\n",
       "      <td>2021-05-20</td>\n",
       "      <td>300</td>\n",
       "    </tr>\n",
       "  </tbody>\n",
       "</table>\n",
       "</div>"
      ],
      "text/plain": [
       "  holder  qty    stock  purchase_price (₹)   current_price (₹)  \\\n",
       "0  Ridhi  100  RCOM.BO                 1.75               3.24   \n",
       "\n",
       "  per_gain_loss (%) per_growth (%)  annual_return (%)  tot_gain_loss (₹)  \\\n",
       "0             85.14         185.14              85.14               1.49   \n",
       "\n",
       "   volume (lk)  mark_cap (cr)  week52high (₹)  week52low (₹) purchase_date  \\\n",
       "0        433.9         889.14            4.33           0.62    2021-05-20   \n",
       "\n",
       "  expectance  \n",
       "0        300  "
      ]
     },
     "execution_count": 8,
     "metadata": {},
     "output_type": "execute_result"
    }
   ],
   "source": [
    "final_dataframe"
   ]
  },
  {
   "cell_type": "code",
   "execution_count": 9,
   "id": "9e3d6ebd",
   "metadata": {},
   "outputs": [
    {
     "name": "stdout",
     "output_type": "stream",
     "text": [
      "C:\\Users\\dhairya\n"
     ]
    }
   ],
   "source": []
  },
  {
   "cell_type": "code",
   "execution_count": null,
   "id": "08291f41",
   "metadata": {},
   "outputs": [],
   "source": []
  }
 ],
 "metadata": {
  "kernelspec": {
   "display_name": "Python 3",
   "language": "python",
   "name": "python3"
  },
  "language_info": {
   "codemirror_mode": {
    "name": "ipython",
    "version": 3
   },
   "file_extension": ".py",
   "mimetype": "text/x-python",
   "name": "python",
   "nbconvert_exporter": "python",
   "pygments_lexer": "ipython3",
   "version": "3.8.8"
  }
 },
 "nbformat": 4,
 "nbformat_minor": 5
}
