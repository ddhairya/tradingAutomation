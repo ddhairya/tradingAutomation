{
 "cells": [
  {
   "cell_type": "markdown",
   "metadata": {},
   "source": [
    "import the stock list excel file using pandas"
   ]
  },
  {
   "cell_type": "code",
   "execution_count": 107,
   "metadata": {},
   "outputs": [
    {
     "data": {
      "text/html": [
       "<div>\n",
       "<style scoped>\n",
       "    .dataframe tbody tr th:only-of-type {\n",
       "        vertical-align: middle;\n",
       "    }\n",
       "\n",
       "    .dataframe tbody tr th {\n",
       "        vertical-align: top;\n",
       "    }\n",
       "\n",
       "    .dataframe thead th {\n",
       "        text-align: right;\n",
       "    }\n",
       "</style>\n",
       "<table border=\"1\" class=\"dataframe\">\n",
       "  <thead>\n",
       "    <tr style=\"text-align: right;\">\n",
       "      <th></th>\n",
       "      <th>Stocks</th>\n",
       "      <th>Holder</th>\n",
       "      <th>Qty</th>\n",
       "      <th>PurchaseDate</th>\n",
       "      <th>PurchasePrice</th>\n",
       "      <th>Expectation</th>\n",
       "    </tr>\n",
       "  </thead>\n",
       "  <tbody>\n",
       "    <tr>\n",
       "      <th>0</th>\n",
       "      <td>RCOM.BO</td>\n",
       "      <td>Ridhi</td>\n",
       "      <td>100</td>\n",
       "      <td>2021-05-20</td>\n",
       "      <td>1.75</td>\n",
       "      <td>300</td>\n",
       "    </tr>\n",
       "  </tbody>\n",
       "</table>\n",
       "</div>"
      ],
      "text/plain": [
       "    Stocks Holder  Qty PurchaseDate  PurchasePrice  Expectation\n",
       "0  RCOM.BO  Ridhi  100   2021-05-20           1.75          300"
      ]
     },
     "execution_count": 107,
     "metadata": {},
     "output_type": "execute_result"
    }
   ],
   "source": [
    "import pandas as pd\n",
    "\n",
    "stocks_list = pd.read_excel(\"stockslist.xlsx\")\n",
    "max_row = len(stocks_list.index)\n",
    "# print(str(stocks_list[\"Holder\"][0]))\n",
    "stocks_list"
   ]
  },
  {
   "cell_type": "markdown",
   "metadata": {},
   "source": [
    "Initiate our data frame with column names"
   ]
  },
  {
   "cell_type": "code",
   "execution_count": 165,
   "metadata": {},
   "outputs": [
    {
     "data": {
      "text/html": [
       "<div>\n",
       "<style scoped>\n",
       "    .dataframe tbody tr th:only-of-type {\n",
       "        vertical-align: middle;\n",
       "    }\n",
       "\n",
       "    .dataframe tbody tr th {\n",
       "        vertical-align: top;\n",
       "    }\n",
       "\n",
       "    .dataframe thead th {\n",
       "        text-align: right;\n",
       "    }\n",
       "</style>\n",
       "<table border=\"1\" class=\"dataframe\">\n",
       "  <thead>\n",
       "    <tr style=\"text-align: right;\">\n",
       "      <th></th>\n",
       "      <th>holder</th>\n",
       "      <th>qty</th>\n",
       "      <th>stock</th>\n",
       "      <th>purchase_price</th>\n",
       "      <th>current_price</th>\n",
       "      <th>per_gain_loss (%)</th>\n",
       "      <th>per_growth (%)</th>\n",
       "      <th>annual_return (%)</th>\n",
       "      <th>tot_gain_loss</th>\n",
       "      <th>volume (lk)</th>\n",
       "      <th>mark_cap (cr)</th>\n",
       "      <th>week52high</th>\n",
       "      <th>week52low</th>\n",
       "      <th>purchase_date</th>\n",
       "      <th>expectance</th>\n",
       "    </tr>\n",
       "  </thead>\n",
       "  <tbody>\n",
       "  </tbody>\n",
       "</table>\n",
       "</div>"
      ],
      "text/plain": [
       "Empty DataFrame\n",
       "Columns: [holder, qty, stock, purchase_price  , current_price , per_gain_loss (%), per_growth (%), annual_return (%), tot_gain_loss , volume (lk), mark_cap (cr), week52high , week52low , purchase_date, expectance]\n",
       "Index: []"
      ]
     },
     "execution_count": 165,
     "metadata": {},
     "output_type": "execute_result"
    }
   ],
   "source": [
    "\n",
    "my_columns = [\"holder\",\"qty\",\"stock\",\"purchase_price  \",\"current_price \",\"per_gain_loss (%)\",\"per_growth (%)\",\"annual_return (%)\",\"tot_gain_loss \",\"volume (lk)\",\"mark_cap (cr)\",\"week52high \",\"week52low \",\"purchase_date\",\"expectance\"]\n",
    "\n",
    "final_dataframe = pd.DataFrame(columns=my_columns)\n",
    "final_dataframe"
   ]
  },
  {
   "cell_type": "markdown",
   "metadata": {},
   "source": [
    "Lets get the details about the stock from the API calls"
   ]
  },
  {
   "cell_type": "code",
   "execution_count": 167,
   "metadata": {},
   "outputs": [
    {
     "data": {
      "text/plain": [
       "{'previousClose': 3.09,\n",
       " 'regularMarketOpen': 3.24,\n",
       " 'twoHundredDayAverage': 2.0068383,\n",
       " 'trailingAnnualDividendYield': None,\n",
       " 'payoutRatio': None,\n",
       " 'volume24Hr': None,\n",
       " 'regularMarketDayHigh': 3.24,\n",
       " 'navPrice': None,\n",
       " 'averageDailyVolume10Day': 4905559,\n",
       " 'totalAssets': None,\n",
       " 'regularMarketPreviousClose': 3.09,\n",
       " 'fiftyDayAverage': 1.9452941,\n",
       " 'trailingAnnualDividendRate': None,\n",
       " 'open': 3.24,\n",
       " 'toCurrency': None,\n",
       " 'averageVolume10days': 4905559,\n",
       " 'expireDate': None,\n",
       " 'yield': None,\n",
       " 'algorithm': None,\n",
       " 'dividendRate': None,\n",
       " 'exDividendDate': None,\n",
       " 'beta': None,\n",
       " 'circulatingSupply': None,\n",
       " 'startDate': None,\n",
       " 'regularMarketDayLow': 3.12,\n",
       " 'priceHint': 4,\n",
       " 'currency': 'INR',\n",
       " 'regularMarketVolume': 43749321,\n",
       " 'lastMarket': None,\n",
       " 'maxSupply': None,\n",
       " 'openInterest': None,\n",
       " 'marketCap': 8891370496,\n",
       " 'volumeAllCurrencies': None,\n",
       " 'strikePrice': None,\n",
       " 'averageVolume': 8389232,\n",
       " 'priceToSalesTrailing12Months': None,\n",
       " 'dayLow': 3.12,\n",
       " 'ask': 0,\n",
       " 'ytdReturn': None,\n",
       " 'askSize': 0,\n",
       " 'volume': 43749321,\n",
       " 'fiftyTwoWeekHigh': 4.33,\n",
       " 'forwardPE': None,\n",
       " 'maxAge': 1,\n",
       " 'fromCurrency': None,\n",
       " 'fiveYearAvgDividendYield': None,\n",
       " 'fiftyTwoWeekLow': 0.62,\n",
       " 'bid': 3.24,\n",
       " 'tradeable': False,\n",
       " 'dividendYield': None,\n",
       " 'bidSize': 0,\n",
       " 'dayHigh': 3.24,\n",
       " 'exchange': 'BSE',\n",
       " 'shortName': 'RELIANCE COMMUNICATIONS LTD.',\n",
       " 'longName': 'Reliance Communications Limited',\n",
       " 'exchangeTimezoneName': 'Asia/Kolkata',\n",
       " 'exchangeTimezoneShortName': 'IST',\n",
       " 'isEsgPopulated': False,\n",
       " 'gmtOffSetMilliseconds': '19800000',\n",
       " 'quoteType': 'EQUITY',\n",
       " 'symbol': 'RCOM.BO',\n",
       " 'market': 'in_market',\n",
       " 'regularMarketPrice': 3.24,\n",
       " 'logo_url': ''}"
      ]
     },
     "execution_count": 167,
     "metadata": {},
     "output_type": "execute_result"
    }
   ],
   "source": [
    "import yfinance as yf\n",
    "\n",
    "stock = yf.Ticker(\"RCOM.BO\")\n",
    "stock.info"
   ]
  },
  {
   "cell_type": "code",
   "execution_count": 168,
   "metadata": {},
   "outputs": [],
   "source": [
    "x = datetime.datetime.now()"
   ]
  },
  {
   "cell_type": "code",
   "execution_count": 102,
   "metadata": {},
   "outputs": [],
   "source": [
    "def annual_return(pd,pp,cp):\n",
    "    cd = datetime.datetime.now()\n",
    "    gain_loss = (cp-pp)/pp*100\n",
    "    days = (cd-pd).days\n",
    "    \n",
    "    if days/365>1:\n",
    "        return round(gain_loss/(days/365),2)\n",
    "    else:\n",
    "        return round(gain_loss,2)\n",
    "    \n",
    "def gain_loss(pp,cp):\n",
    "    return format((cp-pp)/pp*100,'.2f')\n",
    "\n",
    "def growth(pp,cp):\n",
    "    return format(cp/pp*100,'.2f')"
   ]
  },
  {
   "cell_type": "code",
   "execution_count": 70,
   "metadata": {},
   "outputs": [
    {
     "name": "stdout",
     "output_type": "stream",
     "text": [
      "cap - 8891370496| vol - 42989107| w52h - 4.33| w52l - 0.62| regp - 3.24| prevc - 3.09\n"
     ]
    }
   ],
   "source": [
    "print(\"cap - \"+ str(stock.info[\"marketCap\"])+ \n",
    "      \"| vol - \" + str(stock.info[\"volume\"]) + \n",
    "      \"| w52h - \" + str(stock.info[\"fiftyTwoWeekHigh\"])+ \n",
    "      \"| w52l - \" + str(stock.info[\"fiftyTwoWeekLow\"]) + \n",
    "      \"| regp - \" + str(stock.info[\"regularMarketPrice\"]) +\n",
    "      \"| prevc - \"+ str(stock.info[\"previousClose\"])\n",
    "     )\n",
    "# cap - 8891370496| vol - 41924106| w52h - 4.33| w52l - 0.62| regp - 3.24| prevc - 3.09"
   ]
  },
  {
   "cell_type": "code",
   "execution_count": 166,
   "metadata": {},
   "outputs": [],
   "source": [
    "import yfinance as yf\n",
    "\n",
    "for row in range(0,max_row):\n",
    "    ticker = stocks_list[\"Stocks\"][row]\n",
    "    stock = yf.Ticker(ticker)\n",
    "#     print(stock.info)\n",
    "    final_dataframe = final_dataframe.append(\n",
    "        pd.Series([\n",
    "            stocks_list[\"Holder\"][row],\n",
    "            stocks_list[\"Qty\"][row],\n",
    "            ticker,\n",
    "            stocks_list[\"PurchasePrice\"][row],\n",
    "            stock.info[\"regularMarketPrice\"],\n",
    "            gain_loss(pp = stocks_list[\"PurchasePrice\"][row], cp = stock.info[\"regularMarketPrice\"]),\n",
    "            growth(pp = stocks_list[\"PurchasePrice\"][row], cp = stock.info[\"regularMarketPrice\"]),\n",
    "            annual_return(pd = stocks_list[\"PurchaseDate\"][row], pp = stocks_list[\"PurchasePrice\"][row], cp = stock.info[\"regularMarketPrice\"]),\n",
    "            stock.info[\"regularMarketPrice\"]-stocks_list[\"PurchasePrice\"][row],\n",
    "            round(stock.info[\"volume\"]/100000,2),\n",
    "            round(stock.info[\"marketCap\"]/10000000,2),\n",
    "            stock.info[\"fiftyTwoWeekHigh\"],\n",
    "            stock.info[\"fiftyTwoWeekLow\"],\n",
    "            stocks_list[\"PurchaseDate\"][row].strftime(\"%d/%m/%Y\"),\n",
    "            stocks_list[\"Expectation\"][row],\n",
    "        ], index=my_columns),\n",
    "    ignore_index=True)"
   ]
  },
  {
   "cell_type": "code",
   "execution_count": 169,
   "metadata": {
    "scrolled": true
   },
   "outputs": [
    {
     "data": {
      "text/html": [
       "<div>\n",
       "<style scoped>\n",
       "    .dataframe tbody tr th:only-of-type {\n",
       "        vertical-align: middle;\n",
       "    }\n",
       "\n",
       "    .dataframe tbody tr th {\n",
       "        vertical-align: top;\n",
       "    }\n",
       "\n",
       "    .dataframe thead th {\n",
       "        text-align: right;\n",
       "    }\n",
       "</style>\n",
       "<table border=\"1\" class=\"dataframe\">\n",
       "  <thead>\n",
       "    <tr style=\"text-align: right;\">\n",
       "      <th></th>\n",
       "      <th>holder</th>\n",
       "      <th>qty</th>\n",
       "      <th>stock</th>\n",
       "      <th>purchase_price</th>\n",
       "      <th>current_price</th>\n",
       "      <th>per_gain_loss (%)</th>\n",
       "      <th>per_growth (%)</th>\n",
       "      <th>annual_return (%)</th>\n",
       "      <th>tot_gain_loss</th>\n",
       "      <th>volume (lk)</th>\n",
       "      <th>mark_cap (cr)</th>\n",
       "      <th>week52high</th>\n",
       "      <th>week52low</th>\n",
       "      <th>purchase_date</th>\n",
       "      <th>expectance</th>\n",
       "    </tr>\n",
       "  </thead>\n",
       "  <tbody>\n",
       "    <tr>\n",
       "      <th>0</th>\n",
       "      <td>Ridhi</td>\n",
       "      <td>100</td>\n",
       "      <td>RCOM.BO</td>\n",
       "      <td>1.75</td>\n",
       "      <td>3.24</td>\n",
       "      <td>85.14</td>\n",
       "      <td>185.14</td>\n",
       "      <td>85.14</td>\n",
       "      <td>1.49</td>\n",
       "      <td>437.49</td>\n",
       "      <td>889.14</td>\n",
       "      <td>4.33</td>\n",
       "      <td>0.62</td>\n",
       "      <td>20/05/2021</td>\n",
       "      <td>300</td>\n",
       "    </tr>\n",
       "  </tbody>\n",
       "</table>\n",
       "</div>"
      ],
      "text/plain": [
       "  holder  qty    stock  purchase_price    current_price  per_gain_loss (%)  \\\n",
       "0  Ridhi  100  RCOM.BO              1.75            3.24             85.14   \n",
       "\n",
       "  per_growth (%)  annual_return (%)  tot_gain_loss   volume (lk)  \\\n",
       "0         185.14              85.14            1.49       437.49   \n",
       "\n",
       "   mark_cap (cr)  week52high   week52low  purchase_date expectance  \n",
       "0         889.14         4.33        0.62    20/05/2021        300  "
      ]
     },
     "execution_count": 169,
     "metadata": {},
     "output_type": "execute_result"
    }
   ],
   "source": [
    "final_dataframe"
   ]
  },
  {
   "cell_type": "code",
   "execution_count": 61,
   "metadata": {},
   "outputs": [
    {
     "name": "stdout",
     "output_type": "stream",
     "text": [
      "<class 'pandas._libs.tslibs.timestamps.Timestamp'>\n"
     ]
    }
   ],
   "source": [
    "print(type(stocks_list[\"PurchaseDate\"][0]))"
   ]
  },
  {
   "cell_type": "code",
   "execution_count": 65,
   "metadata": {},
   "outputs": [
    {
     "data": {
      "text/plain": [
       "19"
      ]
     },
     "execution_count": 65,
     "metadata": {},
     "output_type": "execute_result"
    }
   ],
   "source": [
    "import datetime\n",
    "pd = stocks_list[\"PurchaseDate\"][0]\n",
    "cd = datetime.datetime.now()\n",
    "\n",
    "(cd-pd).days"
   ]
  },
  {
   "cell_type": "code",
   "execution_count": 67,
   "metadata": {},
   "outputs": [
    {
     "data": {
      "text/plain": [
       "424.96"
      ]
     },
     "execution_count": 67,
     "metadata": {},
     "output_type": "execute_result"
    }
   ],
   "source": [
    "round(stock.info[\"volume\"]/100000,2)"
   ]
  },
  {
   "cell_type": "code",
   "execution_count": 130,
   "metadata": {},
   "outputs": [
    {
     "name": "stdout",
     "output_type": "stream",
     "text": [
      "Requirement already satisfied: XlsxWriter in c:\\programdata\\anaconda3\\lib\\site-packages (1.3.8)\n",
      "Note: you may need to restart the kernel to use updated packages.\n"
     ]
    }
   ],
   "source": [
    "pip install XlsxWriter"
   ]
  },
  {
   "cell_type": "code",
   "execution_count": 145,
   "metadata": {},
   "outputs": [],
   "source": [
    "import xlsxwriter\n",
    "writer = pd.ExcelWriter('recommended_trades.xlsx', engine='xlsxwriter')\n",
    "final_dataframe.to_excel(writer, sheet_name='Recommended Trades', index = False)\n",
    "\n",
    "\n",
    "writer.sheets['Recommended Trades'].write('A1', 'Ticker')\n",
    "writer.sheets['Recommended Trades'].write('B1', 'Price')\n",
    "writer.sheets['Recommended Trades'].write('C1', 'Market Capitalization')\n",
    "writer.sheets['Recommended Trades'].write('D1', 'Number Of Shares to Buy')\n",
    "writer.sheets['Recommended Trades'].set_column('A:A', 20)\n",
    "writer.sheets['Recommended Trades'].set_column('B:B', 20)\n",
    "writer.sheets['Recommended Trades'].set_column('C:C', 20)\n",
    "writer.sheets['Recommended Trades'].set_column('D:D', 20)\n",
    "\n",
    "    \n",
    "\n",
    "writer.save()\n",
    "\n",
    "writer.close()"
   ]
  },
  {
   "cell_type": "code",
   "execution_count": 140,
   "metadata": {},
   "outputs": [],
   "source": [
    "import xlsxwriter\n",
    "\n",
    "writer = pd.ExcelWriter(\"recommendedtrades.xlsx\")\n",
    "\n",
    "final_dataframe.to_excel(writer)\n",
    "\n"
   ]
  },
  {
   "cell_type": "code",
   "execution_count": 142,
   "metadata": {},
   "outputs": [],
   "source": [
    "import xlsxwriter\n",
    "\n",
    "workbook = xlsxwriter.Workbook('hello.xlsx')\n",
    "worksheet = workbook.add_worksheet()\n",
    "\n",
    "worksheet.write('A1', 'Hello world')\n",
    "\n",
    "workbook.close()"
   ]
  },
  {
   "cell_type": "code",
   "execution_count": 170,
   "metadata": {},
   "outputs": [],
   "source": [
    "import pandas as pd\n",
    "\n",
    "# Create a Pandas dataframe from the data.\n",
    "df = pd.DataFrame({'Data': [10, 20, 30, 20, 15, 30, 45]})\n",
    "\n",
    "\n",
    "# filename with current date\n",
    "filename = datetime.datetime.now().strftime(\"%d%m%Y\")+'.xlsx'\n",
    "\n",
    "# Create a Pandas Excel writer using XlsxWriter as the engine.\n",
    "writer = pd.ExcelWriter(filename, engine='xlsxwriter')\n",
    "\n",
    "# Convert the dataframe to an XlsxWriter Excel object.\n",
    "final_dataframe.to_excel(writer, sheet_name='Sheet1')\n",
    "\n",
    "# Close the Pandas Excel writer and output the Excel file.\n",
    "writer.save()"
   ]
  },
  {
   "cell_type": "code",
   "execution_count": 161,
   "metadata": {},
   "outputs": [
    {
     "data": {
      "text/plain": [
       "'08062021'"
      ]
     },
     "execution_count": 161,
     "metadata": {},
     "output_type": "execute_result"
    }
   ],
   "source": [
    "datetime.datetime.now().strftime(\"%d%m%Y\")"
   ]
  },
  {
   "cell_type": "code",
   "execution_count": 163,
   "metadata": {},
   "outputs": [
    {
     "data": {
      "text/plain": [
       "'08062021.xlsx'"
      ]
     },
     "execution_count": 163,
     "metadata": {},
     "output_type": "execute_result"
    }
   ],
   "source": [
    "\n",
    "filename = datetime.datetime.now().strftime(\"%d%m%Y\")+'.xlsx'\n",
    "filename"
   ]
  },
  {
   "cell_type": "code",
   "execution_count": null,
   "metadata": {},
   "outputs": [],
   "source": []
  }
 ],
 "metadata": {
  "kernelspec": {
   "display_name": "Python 3",
   "language": "python",
   "name": "python3"
  },
  "language_info": {
   "codemirror_mode": {
    "name": "ipython",
    "version": 3
   },
   "file_extension": ".py",
   "mimetype": "text/x-python",
   "name": "python",
   "nbconvert_exporter": "python",
   "pygments_lexer": "ipython3",
   "version": "3.8.3"
  }
 },
 "nbformat": 4,
 "nbformat_minor": 5
}
