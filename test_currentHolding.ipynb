{
 "cells": [
  {
   "cell_type": "markdown",
   "id": "5eacf5cc",
   "metadata": {},
   "source": [
    "import the stock list excel file using pandas"
   ]
  },
  {
   "cell_type": "code",
   "execution_count": 107,
   "id": "67ceb76a",
   "metadata": {},
   "outputs": [
    {
     "data": {
      "text/html": [
       "<div>\n",
       "<style scoped>\n",
       "    .dataframe tbody tr th:only-of-type {\n",
       "        vertical-align: middle;\n",
       "    }\n",
       "\n",
       "    .dataframe tbody tr th {\n",
       "        vertical-align: top;\n",
       "    }\n",
       "\n",
       "    .dataframe thead th {\n",
       "        text-align: right;\n",
       "    }\n",
       "</style>\n",
       "<table border=\"1\" class=\"dataframe\">\n",
       "  <thead>\n",
       "    <tr style=\"text-align: right;\">\n",
       "      <th></th>\n",
       "      <th>Stocks</th>\n",
       "      <th>Holder</th>\n",
       "      <th>Qty</th>\n",
       "      <th>PurchaseDate</th>\n",
       "      <th>PurchasePrice</th>\n",
       "      <th>Expectation</th>\n",
       "    </tr>\n",
       "  </thead>\n",
       "  <tbody>\n",
       "    <tr>\n",
       "      <th>0</th>\n",
       "      <td>RCOM.BO</td>\n",
       "      <td>Ridhi</td>\n",
       "      <td>100</td>\n",
       "      <td>2021-05-20</td>\n",
       "      <td>1.75</td>\n",
       "      <td>300</td>\n",
       "    </tr>\n",
       "  </tbody>\n",
       "</table>\n",
       "</div>"
      ],
      "text/plain": [
       "    Stocks Holder  Qty PurchaseDate  PurchasePrice  Expectation\n",
       "0  RCOM.BO  Ridhi  100   2021-05-20           1.75          300"
      ]
     },
     "execution_count": 107,
     "metadata": {},
     "output_type": "execute_result"
    }
   ],
   "source": [
    "import pandas as pd\n",
    "\n",
    "stocks_list = pd.read_excel(\"stockslist.xlsx\")\n",
    "max_row = len(stocks_list.index)\n",
    "# print(str(stocks_list[\"Holder\"][0]))\n",
    "stocks_list"
   ]
  },
  {
   "cell_type": "markdown",
   "id": "cbe0c262",
   "metadata": {},
   "source": [
    "Initiate our data frame with column names"
   ]
  },
  {
   "cell_type": "code",
   "execution_count": 119,
   "id": "1bb39328",
   "metadata": {},
   "outputs": [
    {
     "data": {
      "text/html": [
       "<div>\n",
       "<style scoped>\n",
       "    .dataframe tbody tr th:only-of-type {\n",
       "        vertical-align: middle;\n",
       "    }\n",
       "\n",
       "    .dataframe tbody tr th {\n",
       "        vertical-align: top;\n",
       "    }\n",
       "\n",
       "    .dataframe thead th {\n",
       "        text-align: right;\n",
       "    }\n",
       "</style>\n",
       "<table border=\"1\" class=\"dataframe\">\n",
       "  <thead>\n",
       "    <tr style=\"text-align: right;\">\n",
       "      <th></th>\n",
       "      <th>holder</th>\n",
       "      <th>qty</th>\n",
       "      <th>stock</th>\n",
       "      <th>purchase_price (₹)</th>\n",
       "      <th>current_price (₹)</th>\n",
       "      <th>per_gain_loss (%)</th>\n",
       "      <th>per_growth (%)</th>\n",
       "      <th>annual_return (%)</th>\n",
       "      <th>tot_gain_loss (₹)</th>\n",
       "      <th>volume (lk)</th>\n",
       "      <th>mark_cap (cr)</th>\n",
       "      <th>week52high (₹)</th>\n",
       "      <th>week52low (₹)</th>\n",
       "      <th>purchase_date</th>\n",
       "      <th>expectance</th>\n",
       "    </tr>\n",
       "  </thead>\n",
       "  <tbody>\n",
       "  </tbody>\n",
       "</table>\n",
       "</div>"
      ],
      "text/plain": [
       "Empty DataFrame\n",
       "Columns: [holder, qty, stock, purchase_price (₹) , current_price (₹), per_gain_loss (%), per_growth (%), annual_return (%), tot_gain_loss (₹), volume (lk), mark_cap (cr), week52high (₹), week52low (₹), purchase_date, expectance]\n",
       "Index: []"
      ]
     },
     "execution_count": 119,
     "metadata": {},
     "output_type": "execute_result"
    }
   ],
   "source": [
    "\n",
    "my_columns = [\"holder\",\"qty\",\"stock\",\"purchase_price (₹) \",\"current_price (₹)\",\"per_gain_loss (%)\",\"per_growth (%)\",\"annual_return (%)\",\"tot_gain_loss (₹)\",\"volume (lk)\",\"mark_cap (cr)\",\"week52high (₹)\",\"week52low (₹)\",\"purchase_date\",\"expectance\"]\n",
    "\n",
    "final_dataframe = pd.DataFrame(columns=my_columns)\n",
    "final_dataframe"
   ]
  },
  {
   "cell_type": "markdown",
   "id": "5cf502c2",
   "metadata": {},
   "source": [
    "Lets get the details about the stock from the API calls"
   ]
  },
  {
   "cell_type": "code",
   "execution_count": 69,
   "id": "56eee552",
   "metadata": {},
   "outputs": [],
   "source": [
    "import yfinance as yf\n",
    "\n",
    "stock = yf.Ticker(\"RCOM.BO\")\n"
   ]
  },
  {
   "cell_type": "code",
   "execution_count": null,
   "id": "7c889b1b",
   "metadata": {},
   "outputs": [],
   "source": [
    "x = datetime.datetime.now()"
   ]
  },
  {
   "cell_type": "code",
   "execution_count": 102,
   "id": "b1ab2e30",
   "metadata": {},
   "outputs": [],
   "source": [
    "def annual_return(pd,pp,cp):\n",
    "    cd = datetime.datetime.now()\n",
    "    gain_loss = (cp-pp)/pp*100\n",
    "    days = (cd-pd).days\n",
    "    \n",
    "    if days/365>1:\n",
    "        return round(gain_loss/(days/365),2)\n",
    "    else:\n",
    "        return round(gain_loss,2)\n",
    "    \n",
    "def gain_loss(pp,cp):\n",
    "    return format((cp-pp)/pp*100,'.2f')\n",
    "\n",
    "def growth(pp,cp):\n",
    "    return format(cp/pp*100,'.2f')"
   ]
  },
  {
   "cell_type": "code",
   "execution_count": 70,
   "id": "25fa8f96",
   "metadata": {},
   "outputs": [
    {
     "name": "stdout",
     "output_type": "stream",
     "text": [
      "cap - 8891370496| vol - 42989107| w52h - 4.33| w52l - 0.62| regp - 3.24| prevc - 3.09\n"
     ]
    }
   ],
   "source": [
    "print(\"cap - \"+ str(stock.info[\"marketCap\"])+ \n",
    "      \"| vol - \" + str(stock.info[\"volume\"]) + \n",
    "      \"| w52h - \" + str(stock.info[\"fiftyTwoWeekHigh\"])+ \n",
    "      \"| w52l - \" + str(stock.info[\"fiftyTwoWeekLow\"]) + \n",
    "      \"| regp - \" + str(stock.info[\"regularMarketPrice\"]) +\n",
    "      \"| prevc - \"+ str(stock.info[\"previousClose\"])\n",
    "     )\n",
    "# cap - 8891370496| vol - 41924106| w52h - 4.33| w52l - 0.62| regp - 3.24| prevc - 3.09"
   ]
  },
  {
   "cell_type": "code",
   "execution_count": 108,
   "id": "f6703330",
   "metadata": {},
   "outputs": [],
   "source": [
    "import yfinance as yf\n",
    "\n",
    "for row in range(0,max_row):\n",
    "    ticker = stocks_list[\"Stocks\"][row]\n",
    "    stock = yf.Ticker(ticker)\n",
    "#     print(stock.info)\n",
    "    final_dataframe = final_dataframe.append(\n",
    "        pd.Series([\n",
    "            stocks_list[\"Holder\"][row],\n",
    "            stocks_list[\"Qty\"][row],\n",
    "            ticker,\n",
    "            stocks_list[\"PurchasePrice\"][row],\n",
    "            stock.info[\"regularMarketPrice\"],\n",
    "            gain_loss(pp = stocks_list[\"PurchasePrice\"][row], cp = stock.info[\"regularMarketPrice\"]),\n",
    "            growth(pp = stocks_list[\"PurchasePrice\"][row], cp = stock.info[\"regularMarketPrice\"]),\n",
    "            annual_return(pd = stocks_list[\"PurchaseDate\"][row], pp = stocks_list[\"PurchasePrice\"][row], cp = stock.info[\"regularMarketPrice\"]),\n",
    "            stock.info[\"regularMarketPrice\"]-stocks_list[\"PurchasePrice\"][row],\n",
    "            round(stock.info[\"volume\"]/100000,2),\n",
    "            round(stock.info[\"marketCap\"]/10000000,2),\n",
    "            stock.info[\"fiftyTwoWeekHigh\"],\n",
    "            stock.info[\"fiftyTwoWeekLow\"],\n",
    "            stocks_list[\"PurchaseDate\"][row],\n",
    "            stocks_list[\"Expectation\"][row],\n",
    "        ], index=my_columns),\n",
    "    ignore_index=True)"
   ]
  },
  {
   "cell_type": "code",
   "execution_count": 120,
   "id": "26cfb1a2",
   "metadata": {},
   "outputs": [
    {
     "data": {
      "text/html": [
       "<div>\n",
       "<style scoped>\n",
       "    .dataframe tbody tr th:only-of-type {\n",
       "        vertical-align: middle;\n",
       "    }\n",
       "\n",
       "    .dataframe tbody tr th {\n",
       "        vertical-align: top;\n",
       "    }\n",
       "\n",
       "    .dataframe thead th {\n",
       "        text-align: right;\n",
       "    }\n",
       "</style>\n",
       "<table border=\"1\" class=\"dataframe\">\n",
       "  <thead>\n",
       "    <tr style=\"text-align: right;\">\n",
       "      <th></th>\n",
       "      <th>holder</th>\n",
       "      <th>qty</th>\n",
       "      <th>stock</th>\n",
       "      <th>purchase_price (₹)</th>\n",
       "      <th>current_price (₹)</th>\n",
       "      <th>per_gain_loss (%)</th>\n",
       "      <th>per_growth (%)</th>\n",
       "      <th>annual_return (%)</th>\n",
       "      <th>tot_gain_loss (₹)</th>\n",
       "      <th>volume (lk)</th>\n",
       "      <th>mark_cap (cr)</th>\n",
       "      <th>week52high (₹)</th>\n",
       "      <th>week52low (₹)</th>\n",
       "      <th>purchase_date</th>\n",
       "      <th>expectance</th>\n",
       "    </tr>\n",
       "  </thead>\n",
       "  <tbody>\n",
       "  </tbody>\n",
       "</table>\n",
       "</div>"
      ],
      "text/plain": [
       "Empty DataFrame\n",
       "Columns: [holder, qty, stock, purchase_price (₹) , current_price (₹), per_gain_loss (%), per_growth (%), annual_return (%), tot_gain_loss (₹), volume (lk), mark_cap (cr), week52high (₹), week52low (₹), purchase_date, expectance]\n",
       "Index: []"
      ]
     },
     "execution_count": 120,
     "metadata": {},
     "output_type": "execute_result"
    }
   ],
   "source": [
    "final_dataframe"
   ]
  },
  {
   "cell_type": "code",
   "execution_count": 61,
   "id": "7cb026d2",
   "metadata": {},
   "outputs": [
    {
     "name": "stdout",
     "output_type": "stream",
     "text": [
      "<class 'pandas._libs.tslibs.timestamps.Timestamp'>\n"
     ]
    }
   ],
   "source": [
    "print(type(stocks_list[\"PurchaseDate\"][0]))"
   ]
  },
  {
   "cell_type": "code",
   "execution_count": 65,
   "id": "fbb019ec",
   "metadata": {},
   "outputs": [
    {
     "data": {
      "text/plain": [
       "19"
      ]
     },
     "execution_count": 65,
     "metadata": {},
     "output_type": "execute_result"
    }
   ],
   "source": [
    "import datetime\n",
    "pd = stocks_list[\"PurchaseDate\"][0]\n",
    "cd = datetime.datetime.now()\n",
    "\n",
    "(cd-pd).days"
   ]
  },
  {
   "cell_type": "code",
   "execution_count": 67,
   "id": "2039b0d8",
   "metadata": {},
   "outputs": [
    {
     "data": {
      "text/plain": [
       "424.96"
      ]
     },
     "execution_count": 67,
     "metadata": {},
     "output_type": "execute_result"
    }
   ],
   "source": [
    "round(stock.info[\"volume\"]/100000,2)"
   ]
  },
  {
   "cell_type": "code",
   "execution_count": null,
   "id": "00431a7c",
   "metadata": {},
   "outputs": [],
   "source": []
  }
 ],
 "metadata": {
  "kernelspec": {
   "display_name": "Python 3",
   "language": "python",
   "name": "python3"
  },
  "language_info": {
   "codemirror_mode": {
    "name": "ipython",
    "version": 3
   },
   "file_extension": ".py",
   "mimetype": "text/x-python",
   "name": "python",
   "nbconvert_exporter": "python",
   "pygments_lexer": "ipython3",
   "version": "3.8.8"
  }
 },
 "nbformat": 4,
 "nbformat_minor": 5
}
